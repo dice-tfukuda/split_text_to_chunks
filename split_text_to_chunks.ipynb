{
 "cells": [
  {
   "cell_type": "code",
   "execution_count": 4,
   "id": "3ad46641-ca6a-4aae-8870-b092bfdb2c08",
   "metadata": {
    "tags": []
   },
   "outputs": [
    {
     "name": "stdout",
     "output_type": "stream",
     "text": [
      "Requirement already satisfied: pdfminer.six in /opt/anaconda3/lib/python3.11/site-packages (20221105)\n",
      "Requirement already satisfied: charset-normalizer>=2.0.0 in /opt/anaconda3/lib/python3.11/site-packages (from pdfminer.six) (2.0.4)\n",
      "Requirement already satisfied: cryptography>=36.0.0 in /opt/anaconda3/lib/python3.11/site-packages (from pdfminer.six) (41.0.2)\n",
      "Requirement already satisfied: cffi>=1.12 in /opt/anaconda3/lib/python3.11/site-packages (from cryptography>=36.0.0->pdfminer.six) (1.15.1)\n",
      "Requirement already satisfied: pycparser in /opt/anaconda3/lib/python3.11/site-packages (from cffi>=1.12->cryptography>=36.0.0->pdfminer.six) (2.21)\n",
      "\u001b[33mWARNING: Running pip as the 'root' user can result in broken permissions and conflicting behaviour with the system package manager. It is recommended to use a virtual environment instead: https://pip.pypa.io/warnings/venv\u001b[0m\u001b[33m\n",
      "\u001b[0m"
     ]
    }
   ],
   "source": [
    "!pip install pdfminer.six"
   ]
  },
  {
   "cell_type": "code",
   "execution_count": 1,
   "id": "8148ca46-d274-4d22-a2e4-90718dda5021",
   "metadata": {
    "tags": []
   },
   "outputs": [],
   "source": [
    "import os\n",
    "from pdfminer.high_level import extract_text"
   ]
  },
  {
   "cell_type": "code",
   "execution_count": 2,
   "id": "88bad443-9a3f-495c-a813-3487f18ee17f",
   "metadata": {
    "tags": []
   },
   "outputs": [],
   "source": [
    "def clear_directory(directory):\n",
    "    for file_name in os.listdir(directory):\n",
    "        file_path = os.path.join(directory, file_name)\n",
    "        if os.path.isfile(file_path):\n",
    "            os.remove(file_path)\n",
    "\n",
    "def split_text_to_chunks(text, chunk_size, overlap):\n",
    "    chunks = []\n",
    "    start = 0\n",
    "    while start < len(text):\n",
    "        end = start + chunk_size\n",
    "        if end + overlap < len(text):\n",
    "            end += overlap\n",
    "        chunks.append(text[start:end])\n",
    "        start += chunk_size\n",
    "    return chunks\n",
    "\n",
    "def save_chunks_to_txt(chunks, base_filename, output_dir):\n",
    "    for index, chunk in enumerate(chunks, start=1):\n",
    "        filename = os.path.join(output_dir, f\"{base_filename}_{index}.txt\")\n",
    "        with open(filename, 'w', encoding='utf-8') as f:\n",
    "            f.write(chunk)\n",
    "\n",
    "def main(pdf_path, chunk_size, overlap, output_dir):\n",
    "    # Extract text from the PDF\n",
    "    extracted_text = extract_text(pdf_path)\n",
    "\n",
    "    # Split the extracted text into chunks considering the overlap\n",
    "    chunks = split_text_to_chunks(extracted_text, chunk_size, overlap)\n",
    "\n",
    "    # Extract the base filename without the extension\n",
    "    base_filename = os.path.basename(pdf_path).split('.')[0]\n",
    "\n",
    "    # Save each chunk to a .txt file\n",
    "    save_chunks_to_txt(chunks, base_filename, output_dir)"
   ]
  },
  {
   "cell_type": "code",
   "execution_count": 4,
   "id": "bf9e6940-2f19-4d7c-8d57-1b92e042de76",
   "metadata": {
    "tags": []
   },
   "outputs": [],
   "source": [
    "if __name__ == \"__main__\":\n",
    "    data_directory = './data'\n",
    "    desired_chunk_size = 1024  # This specifies how large each chunk of text should be.\n",
    "    token_overlap = 128\n",
    "    output_directory = './output'\n",
    "\n",
    "    if not os.path.exists(output_directory):\n",
    "        os.makedirs(output_directory)\n",
    "    else:\n",
    "        clear_directory(output_directory)\n",
    "\n",
    "    # Iterate over all PDF files in the data directory\n",
    "    for pdf_file in os.listdir(data_directory):\n",
    "        if pdf_file.endswith('.pdf'):\n",
    "            pdf_file_path = os.path.join(data_directory, pdf_file)\n",
    "            main(pdf_file_path, desired_chunk_size, token_overlap, output_directory)"
   ]
  },
  {
   "cell_type": "code",
   "execution_count": null,
   "id": "73f6bd60-641c-48c5-af84-f7192cd03ad6",
   "metadata": {},
   "outputs": [],
   "source": []
  }
 ],
 "metadata": {
  "kernelspec": {
   "display_name": "Python 3 (ipykernel)",
   "language": "python",
   "name": "python3"
  },
  "language_info": {
   "codemirror_mode": {
    "name": "ipython",
    "version": 3
   },
   "file_extension": ".py",
   "mimetype": "text/x-python",
   "name": "python",
   "nbconvert_exporter": "python",
   "pygments_lexer": "ipython3",
   "version": "3.11.4"
  }
 },
 "nbformat": 4,
 "nbformat_minor": 5
}
